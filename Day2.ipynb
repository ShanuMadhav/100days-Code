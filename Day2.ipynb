{
  "nbformat": 4,
  "nbformat_minor": 0,
  "metadata": {
    "colab": {
      "provenance": []
    },
    "kernelspec": {
      "name": "python3",
      "display_name": "Python 3"
    },
    "language_info": {
      "name": "python"
    }
  },
  "cells": [
    {
      "cell_type": "markdown",
      "source": [
        "LOOP - Day 4,\n",
        "Break & Continue-Day 5\n",
        "Functions - Day 6, Day 7"
      ],
      "metadata": {
        "id": "khAcW-P-RmqY"
      }
    },
    {
      "cell_type": "code",
      "execution_count": null,
      "metadata": {
        "id": "lLmytQm0K1v-",
        "colab": {
          "base_uri": "https://localhost:8080/"
        },
        "outputId": "bc667b1e-1507-4b8d-8266-79d8c5f8f308"
      },
      "outputs": [
        {
          "output_type": "stream",
          "name": "stdout",
          "text": [
            "UMA\n",
            "UMA\n",
            "UMA\n",
            "UMA\n",
            "UMA\n"
          ]
        }
      ],
      "source": [
        "#print name 5 times\n",
        "for i in range(5):\n",
        "  print(\"UMA\")"
      ]
    },
    {
      "cell_type": "code",
      "source": [
        "#Print numbers from 1 to 50\n",
        "for i in range(1,51):\n",
        "  print(i)"
      ],
      "metadata": {
        "id": "BrLXxZDpK7q6",
        "colab": {
          "base_uri": "https://localhost:8080/"
        },
        "outputId": "e9220142-94f7-45ff-f1b6-75556cc19b0f"
      },
      "execution_count": null,
      "outputs": [
        {
          "output_type": "stream",
          "name": "stdout",
          "text": [
            "1\n",
            "2\n",
            "3\n",
            "4\n",
            "5\n",
            "6\n",
            "7\n",
            "8\n",
            "9\n",
            "10\n",
            "11\n",
            "12\n",
            "13\n",
            "14\n",
            "15\n",
            "16\n",
            "17\n",
            "18\n",
            "19\n",
            "20\n",
            "21\n",
            "22\n",
            "23\n",
            "24\n",
            "25\n",
            "26\n",
            "27\n",
            "28\n",
            "29\n",
            "30\n",
            "31\n",
            "32\n",
            "33\n",
            "34\n",
            "35\n",
            "36\n",
            "37\n",
            "38\n",
            "39\n",
            "40\n",
            "41\n",
            "42\n",
            "43\n",
            "44\n",
            "45\n",
            "46\n",
            "47\n",
            "48\n",
            "49\n",
            "50\n"
          ]
        }
      ]
    },
    {
      "cell_type": "code",
      "source": [
        "#Print even numbers between 1 to 50\n",
        "for i in range(2,51,2):\n",
        "  print(i)"
      ],
      "metadata": {
        "colab": {
          "base_uri": "https://localhost:8080/"
        },
        "id": "mZLx3fGkSMwk",
        "outputId": "27bf6e4e-f0bf-494d-907d-91f71d39d511"
      },
      "execution_count": null,
      "outputs": [
        {
          "output_type": "stream",
          "name": "stdout",
          "text": [
            "2\n",
            "4\n",
            "6\n",
            "8\n",
            "10\n",
            "12\n",
            "14\n",
            "16\n",
            "18\n",
            "20\n",
            "22\n",
            "24\n",
            "26\n",
            "28\n",
            "30\n",
            "32\n",
            "34\n",
            "36\n",
            "38\n",
            "40\n",
            "42\n",
            "44\n",
            "46\n",
            "48\n",
            "50\n"
          ]
        }
      ]
    },
    {
      "cell_type": "code",
      "source": [
        "#sum of n numbers\n",
        "n=int(input(\"Enter a number: \"))\n",
        "sum =0\n",
        "for i in range(n+1):\n",
        "  sum=sum+i\n",
        "print(\"Sum is :\", sum)"
      ],
      "metadata": {
        "colab": {
          "base_uri": "https://localhost:8080/"
        },
        "id": "uhgWbVszSjLw",
        "outputId": "042a1a02-9c7d-4fe0-defe-1af62b2f4d84"
      },
      "execution_count": null,
      "outputs": [
        {
          "output_type": "stream",
          "name": "stdout",
          "text": [
            "Enter a number: 3\n",
            "Sum is : 6\n"
          ]
        }
      ]
    },
    {
      "cell_type": "code",
      "source": [
        "#Product of n numbers\n",
        "n=int(input(\"Enter the value of n: \"))\n",
        "mul=1\n",
        "for i in range (1,n+1):\n",
        "  mul=mul*i\n",
        "print (\"Product is \",mul)"
      ],
      "metadata": {
        "colab": {
          "base_uri": "https://localhost:8080/"
        },
        "id": "rwo4PD0oTa19",
        "outputId": "b1e509b2-b39a-471a-97ca-4692c5255b07"
      },
      "execution_count": null,
      "outputs": [
        {
          "output_type": "stream",
          "name": "stdout",
          "text": [
            "Enter the value of n: 1\n",
            "Product is  1\n"
          ]
        }
      ]
    },
    {
      "cell_type": "code",
      "source": [
        "#break -break loop when condition is met\n",
        "#If user enter zero, no printing\n",
        "\n",
        "for i in range(10):\n",
        "  n=int(input(\"Enter a number \"))\n",
        "  if n==0:\n",
        "    break\n",
        "  print(n)\n",
        "print(\"Thank you\")"
      ],
      "metadata": {
        "colab": {
          "base_uri": "https://localhost:8080/"
        },
        "id": "xxiicS4iUUgd",
        "outputId": "26a17a22-224d-4aea-a980-a17698eedf78"
      },
      "execution_count": null,
      "outputs": [
        {
          "output_type": "stream",
          "name": "stdout",
          "text": [
            "Enter a number 5\n",
            "5\n",
            "Enter a number 2\n",
            "2\n",
            "Enter a number 0\n",
            "Thank you\n"
          ]
        }
      ]
    },
    {
      "cell_type": "code",
      "source": [
        "#continue break current iteration but continue the loop\n",
        "for i in range(10):\n",
        "  n=int(input(\"Enter a number \"))\n",
        "  if n==0:\n",
        "    continue\n",
        "  print(n)\n",
        "print(\"Thank you\")"
      ],
      "metadata": {
        "colab": {
          "base_uri": "https://localhost:8080/"
        },
        "id": "6RsHDXwQV_NS",
        "outputId": "3b5381e5-8e8b-4d1c-9efb-4a6f256489f1"
      },
      "execution_count": null,
      "outputs": [
        {
          "output_type": "stream",
          "name": "stdout",
          "text": [
            "Enter a number 1\n",
            "1\n",
            "Enter a number 2\n",
            "2\n",
            "Enter a number 3\n",
            "3\n",
            "Enter a number 0\n",
            "Enter a number 4\n",
            "4\n",
            "Enter a number 0\n",
            "Enter a number 5\n",
            "5\n",
            "Enter a number 0\n",
            "Enter a number 6\n",
            "6\n",
            "Enter a number 7\n",
            "7\n",
            "Thank you\n"
          ]
        }
      ]
    },
    {
      "cell_type": "code",
      "source": [
        "#prime number or not\n",
        "n=int(input(\"Enter a value \"))\n",
        "\n",
        "for i in range(2, n):\n",
        "  if n%i==0:\n",
        "    print(\"Not a prime number\")\n",
        "    break\n",
        "else:\n",
        "    print(\"A prime number\")"
      ],
      "metadata": {
        "colab": {
          "base_uri": "https://localhost:8080/"
        },
        "id": "X7xYGclzXFxF",
        "outputId": "3f536b4f-9e74-4e23-8ce8-d96e7036a179"
      },
      "execution_count": null,
      "outputs": [
        {
          "output_type": "stream",
          "name": "stdout",
          "text": [
            "Enter a value 17\n",
            "A prime number\n"
          ]
        }
      ]
    },
    {
      "cell_type": "code",
      "source": [
        "#print all numbers divisilble by a number\n",
        "\n",
        "n=int(input(\"Enter a number \"))\n",
        "print('The numbers between 1-100 that are  divisible by %d are:'%n)\n",
        "for i in range(1,100):\n",
        "  if(i%n!=0):\n",
        "    continue\n",
        "  else:\n",
        "    print(i,end=\" \")"
      ],
      "metadata": {
        "colab": {
          "base_uri": "https://localhost:8080/"
        },
        "id": "SJxFzLy4YRNK",
        "outputId": "fc9871e8-3f35-49cb-add5-a1493535cdb5"
      },
      "execution_count": null,
      "outputs": [
        {
          "output_type": "stream",
          "name": "stdout",
          "text": [
            "Enter a number 20\n",
            "The numbers between 1-100 that are  divisible by 20 are:\n",
            "20 40 60 80 "
          ]
        }
      ]
    },
    {
      "cell_type": "code",
      "source": [
        "#Functions\n",
        "#Factorial of a no.\n",
        "\n",
        "def factorial(x):\n",
        "  fact=1\n",
        "  for i in range(1,x+1):\n",
        "    fact=fact*i\n",
        "  return fact\n",
        "  #print(\"Factorial is \", fact)\n",
        "\n",
        "n=int(input(\"Enter the number \"))\n",
        "f=factorial(n)\n",
        "print(f)"
      ],
      "metadata": {
        "colab": {
          "base_uri": "https://localhost:8080/"
        },
        "id": "_vm4kyl3NVPc",
        "outputId": "bf400b89-9dbc-41b7-e861-20cc089b0959"
      },
      "execution_count": 3,
      "outputs": [
        {
          "output_type": "stream",
          "name": "stdout",
          "text": [
            "Enter the number 6\n",
            "720\n"
          ]
        }
      ]
    },
    {
      "cell_type": "code",
      "source": [
        "#nCR\n",
        "def factorial(x):\n",
        "  fact=1\n",
        "  for i in range(1,x+1):\n",
        "    fact=fact*i\n",
        "  return fact\n",
        "  #print(\"Factorial is \", fact)\n",
        "\n",
        "n=int(input(\"Enter n \"))\n",
        "r=int(input(\"Enter r \"))\n",
        "#fact_n=factorial(n)\n",
        "#fact_r=factorial(r)\n",
        "#fact_nr=factorial(n-r)\n",
        "#c=fact_n/(fact_nr*fact_r)\n",
        "c=factorial(n)/(factorial(n-r)*factorial(r))\n",
        "print(c)"
      ],
      "metadata": {
        "colab": {
          "base_uri": "https://localhost:8080/"
        },
        "id": "PK2liycOQg2j",
        "outputId": "ea0c15da-0b62-4d50-da94-5a9337d8fd20"
      },
      "execution_count": 7,
      "outputs": [
        {
          "output_type": "stream",
          "name": "stdout",
          "text": [
            "Enter n 10\n",
            "Enter r 5\n",
            "252.0\n"
          ]
        }
      ]
    },
    {
      "cell_type": "code",
      "source": [
        "#print roots of quadratic equation\n",
        "print(\"Enter value of coefficientd of equation ax2+bx+c\")\n",
        "a=int(input(\"Enter value of a \"))\n",
        "b=int(input(\"Enter value of b \"))\n",
        "c=int(input(\"Enter value of c \"))\n",
        "\n",
        "def discriminant(a,b,c):\n",
        "  D=(b**2)-(4*a*c)\n",
        "  return D\n",
        "\n",
        "D=discriminant(a,b,c)\n",
        "if D>0:\n",
        "  root1=(-b+(D**0.5))/(2*a)\n",
        "  root2=(-b-(D**0.5))/(2*a)\n",
        "  print(\"roots are \", root1,\"and \",root2)\n",
        "elif D==0:\n",
        "  root=-b/(4*a*c)\n",
        "  print(\"root is \",root)\n",
        "else:\n",
        "  root=0\n",
        "  print(\"No roots \")"
      ],
      "metadata": {
        "colab": {
          "base_uri": "https://localhost:8080/"
        },
        "id": "kU4gPkldTEXr",
        "outputId": "9a15925e-821f-4329-ebf8-9b610122544f"
      },
      "execution_count": 10,
      "outputs": [
        {
          "output_type": "stream",
          "name": "stdout",
          "text": [
            "Enter value of coefficientd of equation ax2+bx+c\n",
            "Enter value of a 5\n",
            "Enter value of b 20\n",
            "Enter value of c 10\n",
            "roots are  -0.5857864376269049 and  -3.414213562373095\n"
          ]
        }
      ]
    },
    {
      "cell_type": "code",
      "source": [
        "#OR\n",
        "#above program with sqrt function\n",
        "import math\n",
        "\n",
        "def discriminant(a,b,c):\n",
        "  D=(b**2)-(4*a*c)\n",
        "  return D\n",
        "\n",
        "print(\"Enter value of coefficientd of equation ax2+bx+c\")\n",
        "a=int(input(\"Enter value of a \"))\n",
        "b=int(input(\"Enter value of b \"))\n",
        "c=int(input(\"Enter value of c \"))\n",
        "D=discriminant(a,b,c)\n",
        "if D>0:\n",
        "  root1=(-b+math.sqrt(D))/(2*a)\n",
        "  root2=(-b-math.sqrt(D))/(2*a)\n",
        "  print(\"roots are \", root1,\"and \",root2)\n",
        "elif D==0:\n",
        "  root=-b/(4*a*c)\n",
        "  print(\"root is \",root)\n",
        "else:\n",
        "  root=0\n",
        "  print(\"No roots \")"
      ],
      "metadata": {
        "colab": {
          "base_uri": "https://localhost:8080/"
        },
        "id": "cIAFSUQqZXVO",
        "outputId": "75d3920b-c465-4560-eb09-10c2910cde23"
      },
      "execution_count": 13,
      "outputs": [
        {
          "output_type": "stream",
          "name": "stdout",
          "text": [
            "Enter value of coefficientd of equation ax2+bx+c\n",
            "Enter value of a 5\n",
            "Enter value of b 20\n",
            "Enter value of c 10\n",
            "roots are  -0.5857864376269049 and  -3.414213562373095\n"
          ]
        }
      ]
    },
    {
      "cell_type": "code",
      "source": [
        "#Python Program to Find the Factors of a Number\n",
        "def fact(n):\n",
        "  for i in range(1,n+1):\n",
        "    if(n%i==0):\n",
        "      print(i)\n",
        "\n",
        "n=int(input(\"Enter the number \"))\n",
        "fact(n)"
      ],
      "metadata": {
        "colab": {
          "base_uri": "https://localhost:8080/"
        },
        "id": "Z_m66xK4X8xF",
        "outputId": "8fde0f64-07b9-4956-85fe-a273cdae2210"
      },
      "execution_count": 11,
      "outputs": [
        {
          "output_type": "stream",
          "name": "stdout",
          "text": [
            "Enter the number 48\n",
            "1\n",
            "2\n",
            "3\n",
            "4\n",
            "6\n",
            "8\n",
            "12\n",
            "16\n",
            "24\n",
            "48\n"
          ]
        }
      ]
    },
    {
      "cell_type": "code",
      "source": [
        "#Find LCM of a number\n",
        "def lcm(a,b):\n",
        "  if (a>b):\n",
        "    greater=a\n",
        "  else:\n",
        "    greater=b\n",
        "  while (True):\n",
        "    if (greater%a==0) and (greater%b==0):\n",
        "      LCM=greater\n",
        "      break\n",
        "    greater+=1\n",
        "\n",
        "  return LCM\n",
        "\n",
        "\n",
        "\n",
        "n1=int(input(\"Enter first no. \"))\n",
        "n2=int(input(\"Enter second no. \"))\n",
        "LCM=lcm(n1,n2)\n",
        "print(\"LCM of\",n1,\"and \",n2, \"is \",LCM)"
      ],
      "metadata": {
        "colab": {
          "base_uri": "https://localhost:8080/"
        },
        "id": "b8IqAzp6Y9w-",
        "outputId": "f661f4a4-4669-4113-dcec-4329d6980dde"
      },
      "execution_count": 15,
      "outputs": [
        {
          "output_type": "stream",
          "name": "stdout",
          "text": [
            "Enter first no. 3\n",
            "Enter second no. 5\n",
            "LCM of 3 and  5 is  15\n"
          ]
        }
      ]
    },
    {
      "cell_type": "code",
      "source": [
        "#Check Armstrong Number\n",
        "def armstrong(n):\n",
        "  sum=0\n",
        "  length=len(str(n))\n",
        "  temp=n\n",
        "\n",
        "  while(temp!=0):\n",
        "    sum=sum+((temp%10)**length)\n",
        "    temp=temp//10\n",
        "\n",
        "  if sum==n:\n",
        "    print(\"Armstrong Number\")\n",
        "  else:\n",
        "    print(\"Not an Armstrong Number\")\n",
        "\n",
        "n=int(input(\"Enter a number \"))\n",
        "armstrong(n)"
      ],
      "metadata": {
        "colab": {
          "base_uri": "https://localhost:8080/"
        },
        "id": "Gf4KvWxGdS2a",
        "outputId": "54295cb8-6a0d-4423-b444-0290629cc8d9"
      },
      "execution_count": 17,
      "outputs": [
        {
          "output_type": "stream",
          "name": "stdout",
          "text": [
            "Enter a number 324\n",
            "Not an Armstrong Number\n"
          ]
        }
      ]
    },
    {
      "cell_type": "code",
      "source": [],
      "metadata": {
        "id": "doDfD2Rfgib4"
      },
      "execution_count": null,
      "outputs": []
    }
  ]
}