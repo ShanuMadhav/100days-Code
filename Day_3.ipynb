{
  "nbformat": 4,
  "nbformat_minor": 0,
  "metadata": {
    "colab": {
      "provenance": []
    },
    "kernelspec": {
      "name": "python3",
      "display_name": "Python 3"
    },
    "language_info": {
      "name": "python"
    }
  },
  "cells": [
    {
      "cell_type": "code",
      "execution_count": 7,
      "metadata": {
        "id": "YagQDnS-554a",
        "colab": {
          "base_uri": "https://localhost:8080/"
        },
        "outputId": "27d4b0d0-7701-4955-8897-b7ae63f0ed41"
      },
      "outputs": [
        {
          "output_type": "stream",
          "name": "stdout",
          "text": [
            "Enter the length of fibonacci series 15\n",
            "Fibonacci series is 0 , 1, 1, 2, 3, 5, 8, 13, 21, 34, 55, 89, 144, 233, 377, 610, "
          ]
        }
      ],
      "source": [
        "#Program To Dislay Fibonacci series\n",
        "def fibonacci(n):\n",
        "  first=0\n",
        "  second=1\n",
        "  print(\"Fibonacci series is\",first,\",\",second, end=\", \")\n",
        "\n",
        "  for i in range(1,n):\n",
        "    next=first+second\n",
        "    print(next,end=\", \")\n",
        "\n",
        "    first=second\n",
        "    second=next\n",
        "\n",
        "\n",
        "n=int(input(\"Enter the length of fibonacci series \"))\n",
        "fibonacci(n)"
      ]
    },
    {
      "cell_type": "code",
      "source": [
        "#Program To Calculate Simple Interest\n",
        "def SI(p,n,r):\n",
        "    si=(p*n*r)/100\n",
        "    print(\"Simple interest is \", si)\n",
        "\n",
        "P=float(input(\"Enter principal amount \"))\n",
        "N=float(input(\"Enter number of years \"))\n",
        "R=float(input(\"Enter rate of interest \"))\n",
        "SI(P,N,R)"
      ],
      "metadata": {
        "colab": {
          "base_uri": "https://localhost:8080/"
        },
        "id": "3-bRP4gMAuyy",
        "outputId": "551ce47e-b3f4-49b8-ba9c-95834561fc9c"
      },
      "execution_count": 10,
      "outputs": [
        {
          "output_type": "stream",
          "name": "stdout",
          "text": [
            "Enter principal amount 10000\n",
            "Enter number of years 5\n",
            "Enter rate of interest 4.2\n",
            "Simple interest is  2100.0\n"
          ]
        }
      ]
    },
    {
      "cell_type": "code",
      "source": [
        "#Program To Display Multiplication Table\n",
        "def table(n,l):\n",
        "  prod=1\n",
        "  for i in range(1,l+1):\n",
        "    prod=i*n\n",
        "    print(i,\"*\",n,\"=\",prod)\n",
        "\n",
        "\n",
        "n=int(input(\"Which multiplication table do you need? \"))\n",
        "l=int(input(\"Table length like till 10 or 20?? \"))\n",
        "table(n,l)"
      ],
      "metadata": {
        "colab": {
          "base_uri": "https://localhost:8080/"
        },
        "id": "57UkcbUXCAIK",
        "outputId": "283e0372-54f9-41fd-db02-e9e9362a82be"
      },
      "execution_count": 17,
      "outputs": [
        {
          "output_type": "stream",
          "name": "stdout",
          "text": [
            "Which multiplication table do you need? 7\n",
            "Table length like till 10 or 20?? 15\n",
            "1 * 7 = 7\n",
            "2 * 7 = 14\n",
            "3 * 7 = 21\n",
            "4 * 7 = 28\n",
            "5 * 7 = 35\n",
            "6 * 7 = 42\n",
            "7 * 7 = 49\n",
            "8 * 7 = 56\n",
            "9 * 7 = 63\n",
            "10 * 7 = 70\n",
            "11 * 7 = 77\n",
            "12 * 7 = 84\n",
            "13 * 7 = 91\n",
            "14 * 7 = 98\n",
            "15 * 7 = 105\n"
          ]
        }
      ]
    },
    {
      "cell_type": "code",
      "source": [
        "#Program To Reverse a Number\n",
        "def revers(n):\n",
        "  temp=n\n",
        "  reverse_num=0\n",
        "\n",
        "  while(temp!=0):\n",
        "    r=temp%10\n",
        "    reverse_num=reverse_num*10+r\n",
        "    temp=temp//10\n",
        "\n",
        "  print(reverse_num)\n",
        "\n",
        "\n",
        "n=int(input(\"Enter the number to be reversed \"))\n",
        "revers(n)"
      ],
      "metadata": {
        "colab": {
          "base_uri": "https://localhost:8080/"
        },
        "id": "13rJDqUvDvJw",
        "outputId": "bc42d048-0ad5-4cac-d93a-9af03ff068b2"
      },
      "execution_count": 20,
      "outputs": [
        {
          "output_type": "stream",
          "name": "stdout",
          "text": [
            "Enter the number to be reversed 357\n",
            "753\n"
          ]
        }
      ]
    },
    {
      "cell_type": "code",
      "source": [
        "#Program To check if a number is palindrome\n",
        "def palindrom(n):\n",
        "  reverse_num=0\n",
        "  original=n\n",
        "\n",
        "  while(n!=0):\n",
        "    r=n%10\n",
        "    reverse_num=reverse_num*10+r\n",
        "    n=n//10\n",
        "\n",
        "  if reverse_num==original:\n",
        "    print(\"PALINDROME\")\n",
        "  else:\n",
        "    print(\"NOT a palindrome\")\n",
        "\n",
        "\n",
        "n=int(input(\"Enter the number \"))\n",
        "palindrom(n)"
      ],
      "metadata": {
        "colab": {
          "base_uri": "https://localhost:8080/"
        },
        "id": "IyAQ6SiDF58R",
        "outputId": "c710d70e-1708-4dde-8801-94fc9c600c26"
      },
      "execution_count": 26,
      "outputs": [
        {
          "output_type": "stream",
          "name": "stdout",
          "text": [
            "Enter the number 12345654231\n",
            "NOT a palindrome\n"
          ]
        }
      ]
    },
    {
      "cell_type": "code",
      "source": [
        "#Program To Find Prime numbers in a range\n",
        "def prime(lower,upper):\n",
        "\n",
        "  for i in range(lower,upper):\n",
        "\n",
        "    if i>1:\n",
        "      for j in range(2,i):\n",
        "        if i%j==0:\n",
        "          break\n",
        "      else:\n",
        "       print(i)\n",
        "\n",
        "\n",
        "\n",
        "n1=int(input(\"Enter the lower range \"))\n",
        "n2=int(input(\"Enter the upper range \"))\n",
        "prime(n1,n2)"
      ],
      "metadata": {
        "colab": {
          "base_uri": "https://localhost:8080/"
        },
        "id": "sMQ5WP07G_BE",
        "outputId": "236baabb-7792-4299-ae95-a4ccfb334c68"
      },
      "execution_count": 35,
      "outputs": [
        {
          "output_type": "stream",
          "name": "stdout",
          "text": [
            "Enter the lower range 5\n",
            "Enter the upper range 10\n",
            "5\n",
            "7\n"
          ]
        }
      ]
    }
  ]
}